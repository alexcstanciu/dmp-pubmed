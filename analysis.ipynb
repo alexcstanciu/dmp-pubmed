{
 "cells": [
  {
   "cell_type": "code",
   "execution_count": 8,
   "id": "e7eb45b6-9919-4bad-94ad-e9be17ea6866",
   "metadata": {},
   "outputs": [
    {
     "name": "stdout",
     "output_type": "stream",
     "text": [
      "Requirement already satisfied: openai in /usr/local/lib/python3.9/dist-packages (from -r requirements.txt (line 1)) (0.27.4)\n",
      "Requirement already satisfied: pandas in /usr/local/lib/python3.9/dist-packages (from -r requirements.txt (line 2)) (1.5.0)\n",
      "Collecting python-dotenv\n",
      "  Downloading python_dotenv-1.0.0-py3-none-any.whl (19 kB)\n",
      "Requirement already satisfied: spacy in /usr/local/lib/python3.9/dist-packages (from -r requirements.txt (line 4)) (3.4.1)\n",
      "Requirement already satisfied: spacy-langdetect in /usr/local/lib/python3.9/dist-packages (from -r requirements.txt (line 5)) (0.1.2)\n",
      "Requirement already satisfied: requests>=2.20 in /usr/local/lib/python3.9/dist-packages (from openai->-r requirements.txt (line 1)) (2.28.2)\n",
      "Requirement already satisfied: aiohttp in /usr/local/lib/python3.9/dist-packages (from openai->-r requirements.txt (line 1)) (3.8.3)\n",
      "Requirement already satisfied: tqdm in /usr/local/lib/python3.9/dist-packages (from openai->-r requirements.txt (line 1)) (4.64.1)\n",
      "Requirement already satisfied: numpy>=1.20.3 in /usr/local/lib/python3.9/dist-packages (from pandas->-r requirements.txt (line 2)) (1.23.4)\n",
      "Requirement already satisfied: pytz>=2020.1 in /usr/local/lib/python3.9/dist-packages (from pandas->-r requirements.txt (line 2)) (2022.7.1)\n",
      "Requirement already satisfied: python-dateutil>=2.8.1 in /usr/local/lib/python3.9/dist-packages (from pandas->-r requirements.txt (line 2)) (2.8.2)\n",
      "Requirement already satisfied: preshed<3.1.0,>=3.0.2 in /usr/local/lib/python3.9/dist-packages (from spacy->-r requirements.txt (line 4)) (3.0.8)\n",
      "Requirement already satisfied: srsly<3.0.0,>=2.4.3 in /usr/local/lib/python3.9/dist-packages (from spacy->-r requirements.txt (line 4)) (2.4.5)\n",
      "Requirement already satisfied: typer<0.5.0,>=0.3.0 in /usr/local/lib/python3.9/dist-packages (from spacy->-r requirements.txt (line 4)) (0.4.2)\n",
      "Requirement already satisfied: langcodes<4.0.0,>=3.2.0 in /usr/local/lib/python3.9/dist-packages (from spacy->-r requirements.txt (line 4)) (3.3.0)\n",
      "Requirement already satisfied: catalogue<2.1.0,>=2.0.6 in /usr/local/lib/python3.9/dist-packages (from spacy->-r requirements.txt (line 4)) (2.0.8)\n",
      "Requirement already satisfied: cymem<2.1.0,>=2.0.2 in /usr/local/lib/python3.9/dist-packages (from spacy->-r requirements.txt (line 4)) (2.0.7)\n",
      "Requirement already satisfied: pydantic!=1.8,!=1.8.1,<1.10.0,>=1.7.4 in /usr/local/lib/python3.9/dist-packages (from spacy->-r requirements.txt (line 4)) (1.9.2)\n",
      "Requirement already satisfied: pathy>=0.3.5 in /usr/local/lib/python3.9/dist-packages (from spacy->-r requirements.txt (line 4)) (0.10.1)\n",
      "Requirement already satisfied: spacy-loggers<2.0.0,>=1.0.0 in /usr/local/lib/python3.9/dist-packages (from spacy->-r requirements.txt (line 4)) (1.0.4)\n",
      "Requirement already satisfied: thinc<8.2.0,>=8.1.0 in /usr/local/lib/python3.9/dist-packages (from spacy->-r requirements.txt (line 4)) (8.1.7)\n",
      "Requirement already satisfied: jinja2 in /usr/local/lib/python3.9/dist-packages (from spacy->-r requirements.txt (line 4)) (3.1.2)\n",
      "Requirement already satisfied: wasabi<1.1.0,>=0.9.1 in /usr/local/lib/python3.9/dist-packages (from spacy->-r requirements.txt (line 4)) (0.10.1)\n",
      "Requirement already satisfied: spacy-legacy<3.1.0,>=3.0.9 in /usr/local/lib/python3.9/dist-packages (from spacy->-r requirements.txt (line 4)) (3.0.12)\n",
      "Requirement already satisfied: packaging>=20.0 in /usr/local/lib/python3.9/dist-packages (from spacy->-r requirements.txt (line 4)) (23.0)\n",
      "Requirement already satisfied: setuptools in /usr/local/lib/python3.9/dist-packages (from spacy->-r requirements.txt (line 4)) (66.1.1)\n",
      "Requirement already satisfied: murmurhash<1.1.0,>=0.28.0 in /usr/local/lib/python3.9/dist-packages (from spacy->-r requirements.txt (line 4)) (1.0.9)\n",
      "Requirement already satisfied: pytest in /usr/local/lib/python3.9/dist-packages (from spacy-langdetect->-r requirements.txt (line 5)) (7.2.1)\n",
      "Requirement already satisfied: langdetect==1.0.7 in /usr/local/lib/python3.9/dist-packages (from spacy-langdetect->-r requirements.txt (line 5)) (1.0.7)\n",
      "Requirement already satisfied: six in /usr/lib/python3/dist-packages (from langdetect==1.0.7->spacy-langdetect->-r requirements.txt (line 5)) (1.14.0)\n",
      "Requirement already satisfied: smart-open<7.0.0,>=5.2.1 in /usr/local/lib/python3.9/dist-packages (from pathy>=0.3.5->spacy->-r requirements.txt (line 4)) (6.3.0)\n",
      "Requirement already satisfied: typing-extensions>=3.7.4.3 in /usr/local/lib/python3.9/dist-packages (from pydantic!=1.8,!=1.8.1,<1.10.0,>=1.7.4->spacy->-r requirements.txt (line 4)) (4.4.0)\n",
      "Requirement already satisfied: urllib3<1.27,>=1.21.1 in /usr/local/lib/python3.9/dist-packages (from requests>=2.20->openai->-r requirements.txt (line 1)) (1.26.14)\n",
      "Requirement already satisfied: idna<4,>=2.5 in /usr/lib/python3/dist-packages (from requests>=2.20->openai->-r requirements.txt (line 1)) (2.8)\n",
      "Requirement already satisfied: certifi>=2017.4.17 in /usr/lib/python3/dist-packages (from requests>=2.20->openai->-r requirements.txt (line 1)) (2019.11.28)\n",
      "Requirement already satisfied: charset-normalizer<4,>=2 in /usr/local/lib/python3.9/dist-packages (from requests>=2.20->openai->-r requirements.txt (line 1)) (2.1.1)\n",
      "Requirement already satisfied: confection<1.0.0,>=0.0.1 in /usr/local/lib/python3.9/dist-packages (from thinc<8.2.0,>=8.1.0->spacy->-r requirements.txt (line 4)) (0.0.4)\n",
      "Requirement already satisfied: blis<0.8.0,>=0.7.8 in /usr/local/lib/python3.9/dist-packages (from thinc<8.2.0,>=8.1.0->spacy->-r requirements.txt (line 4)) (0.7.9)\n",
      "Requirement already satisfied: click<9.0.0,>=7.1.1 in /usr/local/lib/python3.9/dist-packages (from typer<0.5.0,>=0.3.0->spacy->-r requirements.txt (line 4)) (8.1.3)\n",
      "Requirement already satisfied: attrs>=17.3.0 in /usr/local/lib/python3.9/dist-packages (from aiohttp->openai->-r requirements.txt (line 1)) (23.1.0)\n",
      "Requirement already satisfied: yarl<2.0,>=1.0 in /usr/local/lib/python3.9/dist-packages (from aiohttp->openai->-r requirements.txt (line 1)) (1.8.2)\n",
      "Requirement already satisfied: multidict<7.0,>=4.5 in /usr/local/lib/python3.9/dist-packages (from aiohttp->openai->-r requirements.txt (line 1)) (6.0.4)\n",
      "Requirement already satisfied: async-timeout<5.0,>=4.0.0a3 in /usr/local/lib/python3.9/dist-packages (from aiohttp->openai->-r requirements.txt (line 1)) (4.0.2)\n",
      "Requirement already satisfied: aiosignal>=1.1.2 in /usr/local/lib/python3.9/dist-packages (from aiohttp->openai->-r requirements.txt (line 1)) (1.3.1)\n",
      "Requirement already satisfied: frozenlist>=1.1.1 in /usr/local/lib/python3.9/dist-packages (from aiohttp->openai->-r requirements.txt (line 1)) (1.3.3)\n",
      "Requirement already satisfied: MarkupSafe>=2.0 in /usr/local/lib/python3.9/dist-packages (from jinja2->spacy->-r requirements.txt (line 4)) (2.1.2)\n",
      "Requirement already satisfied: pluggy<2.0,>=0.12 in /usr/local/lib/python3.9/dist-packages (from pytest->spacy-langdetect->-r requirements.txt (line 5)) (1.0.0)\n",
      "Requirement already satisfied: iniconfig in /usr/local/lib/python3.9/dist-packages (from pytest->spacy-langdetect->-r requirements.txt (line 5)) (2.0.0)\n",
      "Requirement already satisfied: tomli>=1.0.0 in /usr/local/lib/python3.9/dist-packages (from pytest->spacy-langdetect->-r requirements.txt (line 5)) (2.0.1)\n",
      "Requirement already satisfied: exceptiongroup>=1.0.0rc8 in /usr/local/lib/python3.9/dist-packages (from pytest->spacy-langdetect->-r requirements.txt (line 5)) (1.1.0)\n",
      "Installing collected packages: python-dotenv\n",
      "Successfully installed python-dotenv-1.0.0\n",
      "\u001b[33mWARNING: Running pip as the 'root' user can result in broken permissions and conflicting behaviour with the system package manager. It is recommended to use a virtual environment instead: https://pip.pypa.io/warnings/venv\u001b[0m\u001b[33m\n",
      "\u001b[0m"
     ]
    }
   ],
   "source": [
    "!pip install -r requirements.txt"
   ]
  },
  {
   "cell_type": "code",
   "execution_count": 2,
   "id": "b3e48d5a-e78e-4275-b56d-20644e1fca12",
   "metadata": {},
   "outputs": [
    {
     "name": "stdout",
     "output_type": "stream",
     "text": [
      "Collecting en-core-web-sm==3.4.1\n",
      "  Downloading https://github.com/explosion/spacy-models/releases/download/en_core_web_sm-3.4.1/en_core_web_sm-3.4.1-py3-none-any.whl (12.8 MB)\n",
      "\u001b[2K     \u001b[90m━━━━━━━━━━━━━━━━━━━━━━━━━━━━━━━━━━━━━━━━\u001b[0m \u001b[32m12.8/12.8 MB\u001b[0m \u001b[31m91.2 MB/s\u001b[0m eta \u001b[36m0:00:00\u001b[0m00:01\u001b[0m00:01\u001b[0m\n",
      "\u001b[?25hRequirement already satisfied: spacy<3.5.0,>=3.4.0 in /usr/local/lib/python3.9/dist-packages (from en-core-web-sm==3.4.1) (3.4.1)\n",
      "Requirement already satisfied: pydantic!=1.8,!=1.8.1,<1.10.0,>=1.7.4 in /usr/local/lib/python3.9/dist-packages (from spacy<3.5.0,>=3.4.0->en-core-web-sm==3.4.1) (1.9.2)\n",
      "Requirement already satisfied: packaging>=20.0 in /usr/local/lib/python3.9/dist-packages (from spacy<3.5.0,>=3.4.0->en-core-web-sm==3.4.1) (23.0)\n",
      "Requirement already satisfied: setuptools in /usr/local/lib/python3.9/dist-packages (from spacy<3.5.0,>=3.4.0->en-core-web-sm==3.4.1) (66.1.1)\n",
      "Requirement already satisfied: srsly<3.0.0,>=2.4.3 in /usr/local/lib/python3.9/dist-packages (from spacy<3.5.0,>=3.4.0->en-core-web-sm==3.4.1) (2.4.5)\n",
      "Requirement already satisfied: pathy>=0.3.5 in /usr/local/lib/python3.9/dist-packages (from spacy<3.5.0,>=3.4.0->en-core-web-sm==3.4.1) (0.10.1)\n",
      "Requirement already satisfied: spacy-loggers<2.0.0,>=1.0.0 in /usr/local/lib/python3.9/dist-packages (from spacy<3.5.0,>=3.4.0->en-core-web-sm==3.4.1) (1.0.4)\n",
      "Requirement already satisfied: numpy>=1.15.0 in /usr/local/lib/python3.9/dist-packages (from spacy<3.5.0,>=3.4.0->en-core-web-sm==3.4.1) (1.23.4)\n",
      "Requirement already satisfied: tqdm<5.0.0,>=4.38.0 in /usr/local/lib/python3.9/dist-packages (from spacy<3.5.0,>=3.4.0->en-core-web-sm==3.4.1) (4.64.1)\n",
      "Requirement already satisfied: thinc<8.2.0,>=8.1.0 in /usr/local/lib/python3.9/dist-packages (from spacy<3.5.0,>=3.4.0->en-core-web-sm==3.4.1) (8.1.7)\n",
      "Requirement already satisfied: murmurhash<1.1.0,>=0.28.0 in /usr/local/lib/python3.9/dist-packages (from spacy<3.5.0,>=3.4.0->en-core-web-sm==3.4.1) (1.0.9)\n",
      "Requirement already satisfied: langcodes<4.0.0,>=3.2.0 in /usr/local/lib/python3.9/dist-packages (from spacy<3.5.0,>=3.4.0->en-core-web-sm==3.4.1) (3.3.0)\n",
      "Requirement already satisfied: requests<3.0.0,>=2.13.0 in /usr/local/lib/python3.9/dist-packages (from spacy<3.5.0,>=3.4.0->en-core-web-sm==3.4.1) (2.28.2)\n",
      "Requirement already satisfied: wasabi<1.1.0,>=0.9.1 in /usr/local/lib/python3.9/dist-packages (from spacy<3.5.0,>=3.4.0->en-core-web-sm==3.4.1) (0.10.1)\n",
      "Requirement already satisfied: cymem<2.1.0,>=2.0.2 in /usr/local/lib/python3.9/dist-packages (from spacy<3.5.0,>=3.4.0->en-core-web-sm==3.4.1) (2.0.7)\n",
      "Requirement already satisfied: spacy-legacy<3.1.0,>=3.0.9 in /usr/local/lib/python3.9/dist-packages (from spacy<3.5.0,>=3.4.0->en-core-web-sm==3.4.1) (3.0.12)\n",
      "Requirement already satisfied: jinja2 in /usr/local/lib/python3.9/dist-packages (from spacy<3.5.0,>=3.4.0->en-core-web-sm==3.4.1) (3.1.2)\n",
      "Requirement already satisfied: preshed<3.1.0,>=3.0.2 in /usr/local/lib/python3.9/dist-packages (from spacy<3.5.0,>=3.4.0->en-core-web-sm==3.4.1) (3.0.8)\n",
      "Requirement already satisfied: catalogue<2.1.0,>=2.0.6 in /usr/local/lib/python3.9/dist-packages (from spacy<3.5.0,>=3.4.0->en-core-web-sm==3.4.1) (2.0.8)\n",
      "Requirement already satisfied: typer<0.5.0,>=0.3.0 in /usr/local/lib/python3.9/dist-packages (from spacy<3.5.0,>=3.4.0->en-core-web-sm==3.4.1) (0.4.2)\n",
      "Requirement already satisfied: smart-open<7.0.0,>=5.2.1 in /usr/local/lib/python3.9/dist-packages (from pathy>=0.3.5->spacy<3.5.0,>=3.4.0->en-core-web-sm==3.4.1) (6.3.0)\n",
      "Requirement already satisfied: typing-extensions>=3.7.4.3 in /usr/local/lib/python3.9/dist-packages (from pydantic!=1.8,!=1.8.1,<1.10.0,>=1.7.4->spacy<3.5.0,>=3.4.0->en-core-web-sm==3.4.1) (4.4.0)\n",
      "Requirement already satisfied: urllib3<1.27,>=1.21.1 in /usr/local/lib/python3.9/dist-packages (from requests<3.0.0,>=2.13.0->spacy<3.5.0,>=3.4.0->en-core-web-sm==3.4.1) (1.26.14)\n",
      "Requirement already satisfied: charset-normalizer<4,>=2 in /usr/local/lib/python3.9/dist-packages (from requests<3.0.0,>=2.13.0->spacy<3.5.0,>=3.4.0->en-core-web-sm==3.4.1) (2.1.1)\n",
      "Requirement already satisfied: certifi>=2017.4.17 in /usr/lib/python3/dist-packages (from requests<3.0.0,>=2.13.0->spacy<3.5.0,>=3.4.0->en-core-web-sm==3.4.1) (2019.11.28)\n",
      "Requirement already satisfied: idna<4,>=2.5 in /usr/lib/python3/dist-packages (from requests<3.0.0,>=2.13.0->spacy<3.5.0,>=3.4.0->en-core-web-sm==3.4.1) (2.8)\n",
      "Requirement already satisfied: confection<1.0.0,>=0.0.1 in /usr/local/lib/python3.9/dist-packages (from thinc<8.2.0,>=8.1.0->spacy<3.5.0,>=3.4.0->en-core-web-sm==3.4.1) (0.0.4)\n",
      "Requirement already satisfied: blis<0.8.0,>=0.7.8 in /usr/local/lib/python3.9/dist-packages (from thinc<8.2.0,>=8.1.0->spacy<3.5.0,>=3.4.0->en-core-web-sm==3.4.1) (0.7.9)\n",
      "Requirement already satisfied: click<9.0.0,>=7.1.1 in /usr/local/lib/python3.9/dist-packages (from typer<0.5.0,>=0.3.0->spacy<3.5.0,>=3.4.0->en-core-web-sm==3.4.1) (8.1.3)\n",
      "Requirement already satisfied: MarkupSafe>=2.0 in /usr/local/lib/python3.9/dist-packages (from jinja2->spacy<3.5.0,>=3.4.0->en-core-web-sm==3.4.1) (2.1.2)\n",
      "Installing collected packages: en-core-web-sm\n",
      "Successfully installed en-core-web-sm-3.4.1\n",
      "\u001b[33mWARNING: Running pip as the 'root' user can result in broken permissions and conflicting behaviour with the system package manager. It is recommended to use a virtual environment instead: https://pip.pypa.io/warnings/venv\u001b[0m\u001b[33m\n",
      "\u001b[0m\u001b[38;5;2m✔ Download and installation successful\u001b[0m\n",
      "You can now load the package via spacy.load('en_core_web_sm')\n"
     ]
    }
   ],
   "source": [
    "!python -m spacy download en_core_web_sm"
   ]
  },
  {
   "cell_type": "code",
   "execution_count": 3,
   "id": "86d60675-e306-47c6-a2c7-00a9417e60d2",
   "metadata": {},
   "outputs": [],
   "source": [
    "import pandas as pd\n",
    "import openai\n",
    "import os"
   ]
  },
  {
   "cell_type": "code",
   "execution_count": 9,
   "id": "0ddf8dbc-6240-43e4-90fb-7bd9a3674e83",
   "metadata": {},
   "outputs": [],
   "source": [
    "from dotenv import load_dotenv\n",
    "load_dotenv()\n",
    "\n",
    "openai.api_key = os.getenv(\"OPENAI_API_KEY\")"
   ]
  },
  {
   "cell_type": "code",
   "execution_count": 5,
   "id": "61b13048-cc3c-475b-8443-1c15c550effa",
   "metadata": {},
   "outputs": [
    {
     "data": {
      "text/plain": [
       "556"
      ]
     },
     "execution_count": 5,
     "metadata": {},
     "output_type": "execute_result"
    }
   ],
   "source": [
    "df = pd.read_csv('fair-data-all.csv')\n",
    "len(df)"
   ]
  },
  {
   "cell_type": "code",
   "execution_count": 6,
   "id": "cc3ef15e-7ad6-41dc-9fb4-af4a586518a3",
   "metadata": {},
   "outputs": [
    {
     "data": {
      "text/plain": [
       "555"
      ]
     },
     "execution_count": 6,
     "metadata": {},
     "output_type": "execute_result"
    }
   ],
   "source": [
    "df = df.drop_duplicates(subset=['Title'])\n",
    "len(df)"
   ]
  },
  {
   "cell_type": "code",
   "execution_count": 7,
   "id": "f1dde84a-7032-4a1b-94c3-7a70d99c8746",
   "metadata": {},
   "outputs": [
    {
     "data": {
      "text/plain": [
       "<spacy_langdetect.spacy_langdetect.LanguageDetector at 0x7f3b7a0bdf40>"
      ]
     },
     "execution_count": 7,
     "metadata": {},
     "output_type": "execute_result"
    }
   ],
   "source": [
    "import spacy\n",
    "from spacy.language import Language\n",
    "from spacy_langdetect import LanguageDetector\n",
    "\n",
    "@Language.factory(\"language_detector\")\n",
    "def get_lang_detector(nlp, name):\n",
    "   return LanguageDetector()\n",
    "\n",
    "nlp = spacy.load(\"en_core_web_sm\")\n",
    "nlp.add_pipe('language_detector', last=True)"
   ]
  },
  {
   "cell_type": "code",
   "execution_count": 8,
   "id": "5cf47b31-b395-4ded-b7c7-9c25b5bd9330",
   "metadata": {},
   "outputs": [],
   "source": [
    "for index, row in df.iterrows():\n",
    "    df.at[index, 'Lang'] = nlp(row['Title'])._.language['language']"
   ]
  },
  {
   "cell_type": "code",
   "execution_count": 9,
   "id": "f20bd943-25e3-47ba-a3af-bb416d9885c5",
   "metadata": {},
   "outputs": [
    {
     "data": {
      "text/plain": [
       "549"
      ]
     },
     "execution_count": 9,
     "metadata": {},
     "output_type": "execute_result"
    }
   ],
   "source": [
    "df = df[df.Lang == 'en']\n",
    "len(df)"
   ]
  },
  {
   "cell_type": "code",
   "execution_count": 123,
   "id": "7c24347b-7072-4c2f-81b1-c86ce93da5c7",
   "metadata": {},
   "outputs": [
    {
     "data": {
      "text/plain": [
       "62            10.1162/dint_x_00187\n",
       "358    10.1016/j.jphys.2017.02.002\n",
       "410           10.2147/clep.s105933\n",
       "469     10.1186/s12939-023-01855-0\n",
       "Name: DOI, dtype: object"
      ]
     },
     "execution_count": 123,
     "metadata": {},
     "output_type": "execute_result"
    }
   ],
   "source": [
    "df.iloc[[62,355,406,464]].DOI"
   ]
  },
  {
   "cell_type": "code",
   "execution_count": 10,
   "id": "c2881724-c34d-46bd-844c-d1aa42e75734",
   "metadata": {},
   "outputs": [
    {
     "data": {
      "text/plain": [
       "31"
      ]
     },
     "execution_count": 10,
     "metadata": {},
     "output_type": "execute_result"
    }
   ],
   "source": [
    "df2 = df[df['Abstract'].str.contains('FAIR')].drop(62).drop(355).drop(406).drop(464)\n",
    "len(df2)"
   ]
  },
  {
   "cell_type": "code",
   "execution_count": 95,
   "id": "db70408a-2218-4ccc-b396-1144d5a677d9",
   "metadata": {},
   "outputs": [],
   "source": [
    "intro = \"You need to decide in which category the following text falls into \\\n",
    "according to its content. Possible choices are: \\\n",
    "'Overview and Adoption of FAIR Principles' (that could include general reviews and surveys, case studies, guidelines, challenges and barriers to adoption),\\\n",
    "'FAIRification of data' (that could include methodologies for data storage, access, curation, preservation, archiving, security, privacy),\\\n",
    "'Infrastructure and Tools' (that could include data repositories and platforms, metadata standards and ontologies).\\n\\nText: \""
   ]
  },
  {
   "cell_type": "code",
   "execution_count": 96,
   "id": "1fe15789-e4d8-4e39-812a-74b92092d86b",
   "metadata": {},
   "outputs": [],
   "source": [
    "for index, row in df2.iterrows():\n",
    "    text = intro + row['Abstract'] + \"\\nCategory:\"\n",
    "    response = openai.Completion.create(model=\"text-davinci-003\", \n",
    "                                    prompt=text, \n",
    "                                    temperature=0, \n",
    "                                    max_tokens=20)\n",
    "\n",
    "    df2.at[index, 'Category'] = response[\"choices\"][0][\"text\"].strip()"
   ]
  },
  {
   "cell_type": "code",
   "execution_count": 97,
   "id": "6c191c0f-15a6-41c8-8a2c-8713a6e5ef05",
   "metadata": {},
   "outputs": [
    {
     "data": {
      "text/plain": [
       "Overview and Adoption of FAIR Principles    18\n",
       "Infrastructure and Tools                     8\n",
       "FAIRification of data                        5\n",
       "Name: Category, dtype: int64"
      ]
     },
     "execution_count": 97,
     "metadata": {},
     "output_type": "execute_result"
    }
   ],
   "source": [
    "df2['Category'].value_counts()"
   ]
  },
  {
   "cell_type": "code",
   "execution_count": 99,
   "id": "8a8f4efb-bf6a-4915-8480-3300e1b58f74",
   "metadata": {},
   "outputs": [
    {
     "data": {
      "text/html": [
       "<div>\n",
       "<style scoped>\n",
       "    .dataframe tbody tr th:only-of-type {\n",
       "        vertical-align: middle;\n",
       "    }\n",
       "\n",
       "    .dataframe tbody tr th {\n",
       "        vertical-align: top;\n",
       "    }\n",
       "\n",
       "    .dataframe thead th {\n",
       "        text-align: right;\n",
       "    }\n",
       "</style>\n",
       "<table border=\"1\" class=\"dataframe\">\n",
       "  <thead>\n",
       "    <tr style=\"text-align: right;\">\n",
       "      <th></th>\n",
       "      <th>Category</th>\n",
       "      <th>DOI</th>\n",
       "      <th>Title</th>\n",
       "    </tr>\n",
       "  </thead>\n",
       "  <tbody>\n",
       "    <tr>\n",
       "      <th>2</th>\n",
       "      <td>FAIRification of data</td>\n",
       "      <td>10.1016/j.dib.2020.106424</td>\n",
       "      <td>An Exploratory Assessment of a Multidimensiona...</td>\n",
       "    </tr>\n",
       "    <tr>\n",
       "      <th>326</th>\n",
       "      <td>FAIRification of data</td>\n",
       "      <td>10.1186/s13326-022-00263-7</td>\n",
       "      <td>Applying the FAIR principles to data in a hosp...</td>\n",
       "    </tr>\n",
       "    <tr>\n",
       "      <th>515</th>\n",
       "      <td>FAIRification of data</td>\n",
       "      <td>10.23889/ijpds.v7i3.1887</td>\n",
       "      <td>Augmenting laboratory COVID serology data gran...</td>\n",
       "    </tr>\n",
       "    <tr>\n",
       "      <th>187</th>\n",
       "      <td>FAIRification of data</td>\n",
       "      <td>10.1162/dint_a_00182</td>\n",
       "      <td>FAIR Machine Learning Model Pipeline Implement...</td>\n",
       "    </tr>\n",
       "    <tr>\n",
       "      <th>124</th>\n",
       "      <td>FAIRification of data</td>\n",
       "      <td>10.1371/journal.pone.0212291</td>\n",
       "      <td>Term sets: A transparent and reproducible repr...</td>\n",
       "    </tr>\n",
       "    <tr>\n",
       "      <th>87</th>\n",
       "      <td>Infrastructure and Tools</td>\n",
       "      <td>10.2196/42822</td>\n",
       "      <td>A Data Transformation Methodology to Create Fi...</td>\n",
       "    </tr>\n",
       "    <tr>\n",
       "      <th>524</th>\n",
       "      <td>Infrastructure and Tools</td>\n",
       "      <td>10.1093/eurpub/ckac129.468</td>\n",
       "      <td>An enhanced version of the PHIRI infrastructur...</td>\n",
       "    </tr>\n",
       "    <tr>\n",
       "      <th>456</th>\n",
       "      <td>Infrastructure and Tools</td>\n",
       "      <td>10.1038/s41431-020-0637-5</td>\n",
       "      <td>Connecting data, tools and people across Europ...</td>\n",
       "    </tr>\n",
       "    <tr>\n",
       "      <th>166</th>\n",
       "      <td>Infrastructure and Tools</td>\n",
       "      <td>10.1016/j.radonc.2019.11.019</td>\n",
       "      <td>Distributed learning on 20 000+ lung cancer pa...</td>\n",
       "    </tr>\n",
       "    <tr>\n",
       "      <th>505</th>\n",
       "      <td>Infrastructure and Tools</td>\n",
       "      <td>10.1038/s41597-022-01265-x</td>\n",
       "      <td>FAIR Genomes metadata schema promoting Next Ge...</td>\n",
       "    </tr>\n",
       "    <tr>\n",
       "      <th>44</th>\n",
       "      <td>Infrastructure and Tools</td>\n",
       "      <td>10.1093/eurheartj/ehac544.2795</td>\n",
       "      <td>Implementation of a clinical trial recruitment...</td>\n",
       "    </tr>\n",
       "    <tr>\n",
       "      <th>36</th>\n",
       "      <td>Infrastructure and Tools</td>\n",
       "      <td>10.3390/app12094336</td>\n",
       "      <td>Multi-Institutional Breast Cancer Detection Us...</td>\n",
       "    </tr>\n",
       "    <tr>\n",
       "      <th>457</th>\n",
       "      <td>Infrastructure and Tools</td>\n",
       "      <td>10.1093/nar/gkac1010</td>\n",
       "      <td>The NHGRI-EBI GWAS Catalog: knowledgebase and ...</td>\n",
       "    </tr>\n",
       "    <tr>\n",
       "      <th>153</th>\n",
       "      <td>Overview and Adoption of FAIR Principles</td>\n",
       "      <td>10.3233/shti210801</td>\n",
       "      <td>A Learning Framework for Medical Image-Based I...</td>\n",
       "    </tr>\n",
       "    <tr>\n",
       "      <th>415</th>\n",
       "      <td>Overview and Adoption of FAIR Principles</td>\n",
       "      <td>10.1055/s-0040-1712510</td>\n",
       "      <td>Applying FAIR Principles to Improve Data Searc...</td>\n",
       "    </tr>\n",
       "    <tr>\n",
       "      <th>237</th>\n",
       "      <td>Overview and Adoption of FAIR Principles</td>\n",
       "      <td>10.15265/iy-2017-024</td>\n",
       "      <td>Clinical Research Informatics: Contributions f...</td>\n",
       "    </tr>\n",
       "    <tr>\n",
       "      <th>534</th>\n",
       "      <td>Overview and Adoption of FAIR Principles</td>\n",
       "      <td>10.1162/dint_a_00183</td>\n",
       "      <td>Curriculum Development for FAIR Data Stewardship</td>\n",
       "    </tr>\n",
       "    <tr>\n",
       "      <th>522</th>\n",
       "      <td>Overview and Adoption of FAIR Principles</td>\n",
       "      <td>10.1542/peds.2021-055815</td>\n",
       "      <td>Data-Driven Approaches to Maximize the Impact ...</td>\n",
       "    </tr>\n",
       "    <tr>\n",
       "      <th>147</th>\n",
       "      <td>Overview and Adoption of FAIR Principles</td>\n",
       "      <td>10.1016/j.jbi.2020.103421</td>\n",
       "      <td>FAIR data sharing: The roles of common data el...</td>\n",
       "    </tr>\n",
       "    <tr>\n",
       "      <th>483</th>\n",
       "      <td>Overview and Adoption of FAIR Principles</td>\n",
       "      <td>10.3233/shti220476</td>\n",
       "      <td>FAIRifying a Quality Registry Using OMOP CDM: ...</td>\n",
       "    </tr>\n",
       "    <tr>\n",
       "      <th>434</th>\n",
       "      <td>Overview and Adoption of FAIR Principles</td>\n",
       "      <td>10.3233/shti210817</td>\n",
       "      <td>Fast Healthcare Interoperability Resources (FH...</td>\n",
       "    </tr>\n",
       "    <tr>\n",
       "      <th>347</th>\n",
       "      <td>Overview and Adoption of FAIR Principles</td>\n",
       "      <td>10.1515/cclm-2022-1096</td>\n",
       "      <td>From big data to better patient outcomes.</td>\n",
       "    </tr>\n",
       "    <tr>\n",
       "      <th>143</th>\n",
       "      <td>Overview and Adoption of FAIR Principles</td>\n",
       "      <td>10.1136/bmj.i4340</td>\n",
       "      <td>Insurance claims related to opioid dependence ...</td>\n",
       "    </tr>\n",
       "    <tr>\n",
       "      <th>31</th>\n",
       "      <td>Overview and Adoption of FAIR Principles</td>\n",
       "      <td>10.1016/j.ejmp.2021.01.083</td>\n",
       "      <td>Making radiotherapy more efficient with FAIR data</td>\n",
       "    </tr>\n",
       "    <tr>\n",
       "      <th>128</th>\n",
       "      <td>Overview and Adoption of FAIR Principles</td>\n",
       "      <td>10.1016/j.drudis.2022.01.006</td>\n",
       "      <td>Maximizing data value for biopharma through FA...</td>\n",
       "    </tr>\n",
       "    <tr>\n",
       "      <th>420</th>\n",
       "      <td>Overview and Adoption of FAIR Principles</td>\n",
       "      <td>10.1002/lrh2.10070</td>\n",
       "      <td>Preparing healthcare delivery organizations fo...</td>\n",
       "    </tr>\n",
       "    <tr>\n",
       "      <th>243</th>\n",
       "      <td>Overview and Adoption of FAIR Principles</td>\n",
       "      <td>10.3390/ijerph15081644</td>\n",
       "      <td>Recommendations for Improving the Quality of R...</td>\n",
       "    </tr>\n",
       "    <tr>\n",
       "      <th>69</th>\n",
       "      <td>Overview and Adoption of FAIR Principles</td>\n",
       "      <td>10.1016/j.clon.2021.11.040</td>\n",
       "      <td>Registries, Databases and Repositories for Dev...</td>\n",
       "    </tr>\n",
       "    <tr>\n",
       "      <th>169</th>\n",
       "      <td>Overview and Adoption of FAIR Principles</td>\n",
       "      <td>10.1136/bmjos-2021-100268</td>\n",
       "      <td>Road to FAIR genomes: a gap analysis of NGS da...</td>\n",
       "    </tr>\n",
       "    <tr>\n",
       "      <th>437</th>\n",
       "      <td>Overview and Adoption of FAIR Principles</td>\n",
       "      <td>10.23889/ijpds.v7i3.1792</td>\n",
       "      <td>The COVID - Curated and Open aNalysis aNd rEse...</td>\n",
       "    </tr>\n",
       "    <tr>\n",
       "      <th>369</th>\n",
       "      <td>Overview and Adoption of FAIR Principles</td>\n",
       "      <td>10.1371/journal.pone.0269828</td>\n",
       "      <td>The burden of Chronic Pelvic Pain (CPP): Costs...</td>\n",
       "    </tr>\n",
       "  </tbody>\n",
       "</table>\n",
       "</div>"
      ],
      "text/plain": [
       "                                     Category                             DOI  \\\n",
       "2                       FAIRification of data       10.1016/j.dib.2020.106424   \n",
       "326                     FAIRification of data      10.1186/s13326-022-00263-7   \n",
       "515                     FAIRification of data        10.23889/ijpds.v7i3.1887   \n",
       "187                     FAIRification of data            10.1162/dint_a_00182   \n",
       "124                     FAIRification of data    10.1371/journal.pone.0212291   \n",
       "87                   Infrastructure and Tools                   10.2196/42822   \n",
       "524                  Infrastructure and Tools      10.1093/eurpub/ckac129.468   \n",
       "456                  Infrastructure and Tools       10.1038/s41431-020-0637-5   \n",
       "166                  Infrastructure and Tools    10.1016/j.radonc.2019.11.019   \n",
       "505                  Infrastructure and Tools      10.1038/s41597-022-01265-x   \n",
       "44                   Infrastructure and Tools  10.1093/eurheartj/ehac544.2795   \n",
       "36                   Infrastructure and Tools             10.3390/app12094336   \n",
       "457                  Infrastructure and Tools            10.1093/nar/gkac1010   \n",
       "153  Overview and Adoption of FAIR Principles              10.3233/shti210801   \n",
       "415  Overview and Adoption of FAIR Principles          10.1055/s-0040-1712510   \n",
       "237  Overview and Adoption of FAIR Principles            10.15265/iy-2017-024   \n",
       "534  Overview and Adoption of FAIR Principles            10.1162/dint_a_00183   \n",
       "522  Overview and Adoption of FAIR Principles        10.1542/peds.2021-055815   \n",
       "147  Overview and Adoption of FAIR Principles       10.1016/j.jbi.2020.103421   \n",
       "483  Overview and Adoption of FAIR Principles              10.3233/shti220476   \n",
       "434  Overview and Adoption of FAIR Principles              10.3233/shti210817   \n",
       "347  Overview and Adoption of FAIR Principles          10.1515/cclm-2022-1096   \n",
       "143  Overview and Adoption of FAIR Principles               10.1136/bmj.i4340   \n",
       "31   Overview and Adoption of FAIR Principles      10.1016/j.ejmp.2021.01.083   \n",
       "128  Overview and Adoption of FAIR Principles    10.1016/j.drudis.2022.01.006   \n",
       "420  Overview and Adoption of FAIR Principles              10.1002/lrh2.10070   \n",
       "243  Overview and Adoption of FAIR Principles          10.3390/ijerph15081644   \n",
       "69   Overview and Adoption of FAIR Principles      10.1016/j.clon.2021.11.040   \n",
       "169  Overview and Adoption of FAIR Principles       10.1136/bmjos-2021-100268   \n",
       "437  Overview and Adoption of FAIR Principles        10.23889/ijpds.v7i3.1792   \n",
       "369  Overview and Adoption of FAIR Principles    10.1371/journal.pone.0269828   \n",
       "\n",
       "                                                 Title  \n",
       "2    An Exploratory Assessment of a Multidimensiona...  \n",
       "326  Applying the FAIR principles to data in a hosp...  \n",
       "515  Augmenting laboratory COVID serology data gran...  \n",
       "187  FAIR Machine Learning Model Pipeline Implement...  \n",
       "124  Term sets: A transparent and reproducible repr...  \n",
       "87   A Data Transformation Methodology to Create Fi...  \n",
       "524  An enhanced version of the PHIRI infrastructur...  \n",
       "456  Connecting data, tools and people across Europ...  \n",
       "166  Distributed learning on 20 000+ lung cancer pa...  \n",
       "505  FAIR Genomes metadata schema promoting Next Ge...  \n",
       "44   Implementation of a clinical trial recruitment...  \n",
       "36   Multi-Institutional Breast Cancer Detection Us...  \n",
       "457  The NHGRI-EBI GWAS Catalog: knowledgebase and ...  \n",
       "153  A Learning Framework for Medical Image-Based I...  \n",
       "415  Applying FAIR Principles to Improve Data Searc...  \n",
       "237  Clinical Research Informatics: Contributions f...  \n",
       "534   Curriculum Development for FAIR Data Stewardship  \n",
       "522  Data-Driven Approaches to Maximize the Impact ...  \n",
       "147  FAIR data sharing: The roles of common data el...  \n",
       "483  FAIRifying a Quality Registry Using OMOP CDM: ...  \n",
       "434  Fast Healthcare Interoperability Resources (FH...  \n",
       "347          From big data to better patient outcomes.  \n",
       "143  Insurance claims related to opioid dependence ...  \n",
       "31   Making radiotherapy more efficient with FAIR data  \n",
       "128  Maximizing data value for biopharma through FA...  \n",
       "420  Preparing healthcare delivery organizations fo...  \n",
       "243  Recommendations for Improving the Quality of R...  \n",
       "69   Registries, Databases and Repositories for Dev...  \n",
       "169  Road to FAIR genomes: a gap analysis of NGS da...  \n",
       "437  The COVID - Curated and Open aNalysis aNd rEse...  \n",
       "369  The burden of Chronic Pelvic Pain (CPP): Costs...  "
      ]
     },
     "execution_count": 99,
     "metadata": {},
     "output_type": "execute_result"
    }
   ],
   "source": [
    "df2[['Category', 'DOI', 'Title']].sort_values(['Category','Title'])"
   ]
  },
  {
   "cell_type": "code",
   "execution_count": 124,
   "id": "492d2144-8f7e-4859-9525-f9a4d598dc53",
   "metadata": {},
   "outputs": [],
   "source": [
    "df2.to_csv('fair-data-only.csv')"
   ]
  },
  {
   "cell_type": "code",
   "execution_count": 101,
   "id": "c649d0de-af42-453a-902e-03842d5b982b",
   "metadata": {},
   "outputs": [
    {
     "data": {
      "text/plain": [
       "5"
      ]
     },
     "execution_count": 101,
     "metadata": {},
     "output_type": "execute_result"
    }
   ],
   "source": [
    "df2['Abstract'].str.contains('privacy|security', regex=True).sum()"
   ]
  },
  {
   "cell_type": "code",
   "execution_count": 102,
   "id": "7f9273d0-261c-4ab5-ac31-9ec5a74bb75d",
   "metadata": {},
   "outputs": [],
   "source": [
    "df3 = df2[df2['Abstract'].str.contains('privacy|security', regex=True)]"
   ]
  },
  {
   "cell_type": "code",
   "execution_count": 103,
   "id": "c83e3f79-8357-4c98-a837-9227e3ebbd72",
   "metadata": {},
   "outputs": [
    {
     "data": {
      "text/plain": [
       "36              10.3390/app12094336\n",
       "87                    10.2196/42822\n",
       "147       10.1016/j.jbi.2020.103421\n",
       "166    10.1016/j.radonc.2019.11.019\n",
       "237            10.15265/iy-2017-024\n",
       "Name: DOI, dtype: object"
      ]
     },
     "execution_count": 103,
     "metadata": {},
     "output_type": "execute_result"
    }
   ],
   "source": [
    "df3.DOI"
   ]
  },
  {
   "cell_type": "code",
   "execution_count": 65,
   "id": "4d3a0ef2-850b-49ec-9571-c4c39e213f4c",
   "metadata": {},
   "outputs": [
    {
     "data": {
      "text/plain": [
       "31"
      ]
     },
     "execution_count": 65,
     "metadata": {},
     "output_type": "execute_result"
    }
   ],
   "source": [
    "df2 = pd.read_csv('fair-data-only.csv')\n",
    "len(df2)"
   ]
  },
  {
   "cell_type": "code",
   "execution_count": 66,
   "id": "d2695717-2ae9-4178-9f7f-e7006a03472c",
   "metadata": {},
   "outputs": [
    {
     "data": {
      "text/plain": [
       "18"
      ]
     },
     "execution_count": 66,
     "metadata": {},
     "output_type": "execute_result"
    }
   ],
   "source": [
    "df4 = df2.loc[df2['Category'] == 'Overview and Adoption of FAIR Principles', ['DOI', 'Title', 'Abstract']]\n",
    "len(df4)"
   ]
  },
  {
   "cell_type": "code",
   "execution_count": 67,
   "id": "32701257-7bbd-44c4-b085-af09ec92ef43",
   "metadata": {},
   "outputs": [],
   "source": [
    "pd.set_option('display.max_colwidth', None)"
   ]
  },
  {
   "cell_type": "code",
   "execution_count": 68,
   "id": "ee5e1223-f8ce-417d-a93f-8bacdf9acff0",
   "metadata": {},
   "outputs": [],
   "source": [
    "intro = \"Summarize the following text by explaining the role of FAIR principles.\\n\\nText: \""
   ]
  },
  {
   "cell_type": "code",
   "execution_count": 69,
   "id": "0c1dacec-2215-4b1e-9863-b44297fc95a8",
   "metadata": {},
   "outputs": [],
   "source": [
    "for index, row in df4.iterrows():\n",
    "    text = intro + row['Abstract'] + \"\\nSummary:\"\n",
    "    response = openai.Completion.create(model=\"text-davinci-003\", \n",
    "                                    prompt=text, \n",
    "                                    temperature=0, \n",
    "                                    max_tokens=300)\n",
    "\n",
    "    df4.at[index, 'Summary'] = response[\"choices\"][0][\"text\"].strip()"
   ]
  },
  {
   "cell_type": "code",
   "execution_count": 85,
   "id": "7d3772c9-7236-4288-9128-20f13ba9a2b2",
   "metadata": {},
   "outputs": [],
   "source": [
    "df4.to_csv('fair-data-summary.csv')"
   ]
  },
  {
   "cell_type": "code",
   "execution_count": 86,
   "id": "4764be13-e5e2-42be-88dd-f238422b0132",
   "metadata": {},
   "outputs": [
    {
     "data": {
      "text/html": [
       "<div>\n",
       "<style scoped>\n",
       "    .dataframe tbody tr th:only-of-type {\n",
       "        vertical-align: middle;\n",
       "    }\n",
       "\n",
       "    .dataframe tbody tr th {\n",
       "        vertical-align: top;\n",
       "    }\n",
       "\n",
       "    .dataframe thead th {\n",
       "        text-align: right;\n",
       "    }\n",
       "</style>\n",
       "<table border=\"1\" class=\"dataframe\">\n",
       "  <thead>\n",
       "    <tr style=\"text-align: right;\">\n",
       "      <th></th>\n",
       "      <th>DOI</th>\n",
       "      <th>Summary</th>\n",
       "    </tr>\n",
       "  </thead>\n",
       "  <tbody>\n",
       "    <tr>\n",
       "      <th>1</th>\n",
       "      <td>10.1016/j.ejmp.2021.01.083</td>\n",
       "      <td>The FAIR principles (Findable, Accessible, Interoperable, Reusable) are essential for the rapid growth of artificial intelligence (AI) applications in radiotherapy and the data-driven healthcare domain. This article provides guidance and potential applications of FAIR to various radiotherapy stakeholders, with a focus on the role of medical physicists. It also outlines the need and usage of FAIR data principles in radiotherapy, and presents practical and relevant use cases for the future.</td>\n",
       "    </tr>\n",
       "    <tr>\n",
       "      <th>4</th>\n",
       "      <td>10.1016/j.clon.2021.11.040</td>\n",
       "      <td>The FAIR principles are an important framework for enabling progress in the development of artificial intelligence using existing datasets. The 6Vs of Big Data and the FAIR criteria for data sharing and availability (Findability, Accessibility, Interoperability, and Reuse) provide a structure for navigating the barriers preventing artificial intelligence from making full use of existing datasets. The Brain Tumour Data Accelerator is an example of an initiative that uses the FAIR principles to integrate fragmented patient data into an enriched dataset.</td>\n",
       "    </tr>\n",
       "    <tr>\n",
       "      <th>7</th>\n",
       "      <td>10.1016/j.drudis.2022.01.006</td>\n",
       "      <td>The FAIR principles (Findable, Accessible, Interoperable and Reusable) have been increasingly adopted in recent years to facilitate collaboration between academia and industry in the life sciences. This shift from an application-centric to a data-centric perspective has enabled greater value to be achieved from data generated from research, clinical trials, and real-world healthcare data, which is essential for the discovery and development of new medical treatments by biopharma.</td>\n",
       "    </tr>\n",
       "    <tr>\n",
       "      <th>8</th>\n",
       "      <td>10.1136/bmj.i4340</td>\n",
       "      <td>FAIR Health is a non-profit corporation that maintains a database of over 20 billion privately billed healthcare claims and provides healthcare cost data and analysis to government agencies, insurers, providers, and consumers. The organization conducted an analysis of privately billed healthcare claims which showed that private health insurance claims for opioid dependence in the United States rose more than 3200% from 2007 to 2014. This data is being used to help combat the opioid epidemic in the US by providing insight into the cost of treatment and the prevalence of opioid dependence.</td>\n",
       "    </tr>\n",
       "    <tr>\n",
       "      <th>9</th>\n",
       "      <td>10.1016/j.jbi.2020.103421</td>\n",
       "      <td>The FAIR principles are a set of guidelines for data sharing in clinical research and healthcare. They emphasize the importance of data exchange standards, content standards, and accessible rich metadata that uses applicable terminologies to ensure data is Findable, Accessible, Interoperable, and Reusable. Common data elements (CDEs) have been used to standardize data collection, but have not been widely adopted due to a lack of harmonization and consistency in linking them to controlled terminology or common identifiers. This has hindered the ability to adhere to FAIR principles and realize Learning Health Systems. Recommendations are offered to rectify this situation and enable responsible data sharing.</td>\n",
       "    </tr>\n",
       "    <tr>\n",
       "      <th>10</th>\n",
       "      <td>10.3233/shti210801</td>\n",
       "      <td>The FAIR principles are used to improve the performance of medical image classification and diagnosis based on machine learning. The technique proposed in this paper enables the alignment of class distribution in imbalanced datasets, which can lead to improved image classification performance and ensure data reuse. Experiments on the acne disease dataset show that the proposed framework can achieve up to 5% improvement in image classification.</td>\n",
       "    </tr>\n",
       "    <tr>\n",
       "      <th>12</th>\n",
       "      <td>10.1136/bmjos-2021-100268</td>\n",
       "      <td>This study investigates the management and sharing of next generation sequencing (NGS) data within the healthcare and research setting according to the FAIR principles (Findable, Accessible, Interoperable and Reusable). As part of the 'Rational Pharmacotherapy Program' led by ZonMw, a consortium was formed to develop an instruction manual for FAIR genomic data in clinical care and research. This paper addresses topics such as data generation, data quality, (meta)data standards, data storage and archiving and data integration and exchange. This gap analysis is a possible contribution from the Netherlands to the European 1+ Million Genomes Initiative.</td>\n",
       "    </tr>\n",
       "    <tr>\n",
       "      <th>14</th>\n",
       "      <td>10.15265/iy-2017-024</td>\n",
       "      <td>The FAIR Guiding Principles for scientific data management and stewardship were highlighted in one of the four best papers selected from 452 papers published in 2016 in the field of Clinical Research Informatics. This paper, along with the other three selected papers, focused on the utilization of real-world data, such as healthcare-generated data, person health data, and patient-reported outcomes, and the potential risks of privacy breaches associated with releasing genomics datasets.</td>\n",
       "    </tr>\n",
       "    <tr>\n",
       "      <th>15</th>\n",
       "      <td>10.3390/ijerph15081644</td>\n",
       "      <td>The FAIR principles are an important part of the development of rare disease (RD) patient registries. These principles include aspects of governance, data and information, infrastructure, documentation, training, and quality audit. They are intended to be used by established and new RD registries to ensure high-quality information systems that support the activities of European Reference Networks (ERNs) on rare diseases. A toolkit is being developed to enable continuous assessment and improvement of their organizational and data quality.</td>\n",
       "    </tr>\n",
       "    <tr>\n",
       "      <th>17</th>\n",
       "      <td>10.1515/cclm-2022-1096</td>\n",
       "      <td>The FAIR Guiding Principles provide guidelines to make data findable, accessible, interoperable and reusable to the research community in order to facilitate the efficient and safe implementation of big data and artificial intelligence in healthcare. These principles are important for the development of legal, procedural and technical infrastructure, as well as for the integration of all clinical data sets for any given patient. They are also useful for improving the robustness of AI algorithms working on big data and increasing trust in these algorithms. Big data and AI offer opportunities for laboratories and the In Vitro Diagnostic industry to optimize the productivity of the laboratory, the quality of laboratory results and ultimately patient outcomes.</td>\n",
       "    </tr>\n",
       "    <tr>\n",
       "      <th>18</th>\n",
       "      <td>10.1371/journal.pone.0269828</td>\n",
       "      <td>This analysis aimed to characterize the healthcare utilization, cost burden, and quality-of-life restrictions experienced by Chronic Pelvic Pain (CPP) patients. Data from 607 patients was used and the overall cost burden per patient for all services combined was $15,750 for in-network services. The FAIR Health Consumer online database was used to obtain in-network costs. This analysis sets the stage for future investigations involving data on costs of medications and costs associated with work hours lost.</td>\n",
       "    </tr>\n",
       "    <tr>\n",
       "      <th>19</th>\n",
       "      <td>10.1055/s-0040-1712510</td>\n",
       "      <td>The FAIR principles are a set of guidelines proposed by the scientific community to improve how scholarly data is managed and accessed. This case study developed a system, EDCat, to improve the FAIRness of Healthcare Cost and Utilization Project's State Emergency Department Databases (HCUP's SEDD). EDCat improved the findability of individual datasets and increased the efficacy of searches for specific data elements and data types. The publication of data dictionaries should be encouraged through the FAIR principles, and further efforts should be made to improve the specificity and measurability of the FAIR principles.</td>\n",
       "    </tr>\n",
       "    <tr>\n",
       "      <th>20</th>\n",
       "      <td>10.1002/lrh2.10070</td>\n",
       "      <td>The FAIR principles are essential for healthcare delivery organizations to be able to effectively use computable knowledge management at scale. The FAIR principles (findable, accessible, interoperable, reusable) are necessary for data science discoveries to be represented in computable form and spread knowledge at scale. Healthcare delivery organizations need to develop new organizational capabilities across three domains: policies and processes, technology, and people in order to benefit from computable biomedical knowledge.</td>\n",
       "    </tr>\n",
       "    <tr>\n",
       "      <th>21</th>\n",
       "      <td>10.3233/shti210817</td>\n",
       "      <td>The purpose of this study was to evaluate the mapping feasibility of a generic metadata schema (MDS) created for a central search hub gathering COVID-19 health research to the HL7® Fast Healthcare Interoperability Resources® (FHIR)®. Results showed that 94% of the items could be mapped to FHIR, with 50 (58%) of the items available as standard resources and 31 (36%) mapped using extensions. This work demonstrates that FHIR can be used as a standardized format in registries for clinical, epidemiological and public health research, however further adjustments to the initial MDS are recommended. The adoption of international standards within health research communities can help to elevate data FAIRness and widen analysis possibilities.</td>\n",
       "    </tr>\n",
       "    <tr>\n",
       "      <th>22</th>\n",
       "      <td>10.23889/ijpds.v7i3.1792</td>\n",
       "      <td>The FAIR principles are being used in the CO-CONNECT project to make UK COVID-19 data Findable, Accessible, Interoperable and Reusable. This project is connecting data from over 50 large research cohorts and data collected through routine healthcare provision across the UK. The FAIR principles are being used to streamline processes of accessing data for research, enabling researchers to determine how many people meet their research criteria within the various datasets across the UK. Additionally, with data governance approvals, researchers can analyse detailed level, standardised, linked, pseudonymised data in a Trusted Research Environment. This de-identifiable, safe way of providing data enables rapid, robust research.</td>\n",
       "    </tr>\n",
       "    <tr>\n",
       "      <th>25</th>\n",
       "      <td>10.3233/shti220476</td>\n",
       "      <td>The FAIR principles of Findable, Accessible, Interoperable and Reusable are essential for health data to be used in integrative analysis with other datasets, especially during the current pandemic. The Dutch National Intensive Care Evaluation (NICE) quality registry adopted the Observational Medical Outcomes Partnership Common Database Model (OMOP CDM) to achieve a FAIR database. This process involved solving many modeling, technical, and communication challenges, which were done through communication with the OMOP CDM implementation community, previously done research and trial-and-error. This can help other healthcare institutions, especially ICU quality registries, to FAIRify their databases.</td>\n",
       "    </tr>\n",
       "    <tr>\n",
       "      <th>28</th>\n",
       "      <td>10.1542/peds.2021-055815</td>\n",
       "      <td>The FAIR principles are an important part of maximizing the impact of pediatric clinical trials. These principles involve making data Findable, Accessible, Interoperable, and Reusable. This includes making data sharing and reuse mandatory, using standard pediatric terminologies and pediatric-specific data ontologies, and monitoring activities to direct modification and strengthening of research infrastructures. These principles are essential for advancing pediatric clinical care and maximizing resources.</td>\n",
       "    </tr>\n",
       "    <tr>\n",
       "      <th>30</th>\n",
       "      <td>10.1162/dint_a_00183</td>\n",
       "      <td>The FAIR Guidelines are designed to make digital data Findable, Accessible, Interoperable, and Reusable. To meet this goal, a new data science discipline known as data stewardship is emerging. The Digital Innovations and Skills Hub (DISH) project has developed a FAIR Data Management course to foster professional skills in data stewardship. The course consists of 6 short on-demand certificate modules over 12 weeks, covering topics such as data science, regulatory frameworks, FAIR data management, and FAIR data in the management of healthcare and semantic data. Upon completion, students are certified as FAIR data scientists and qualified to serve as both FAIR data stewards and analysts. This initiative is intended to build a core of FAIR data scientists and encourage the adoption of the FAIR Guidelines.</td>\n",
       "    </tr>\n",
       "  </tbody>\n",
       "</table>\n",
       "</div>"
      ],
      "text/plain": [
       "                             DOI  \\\n",
       "1     10.1016/j.ejmp.2021.01.083   \n",
       "4     10.1016/j.clon.2021.11.040   \n",
       "7   10.1016/j.drudis.2022.01.006   \n",
       "8              10.1136/bmj.i4340   \n",
       "9      10.1016/j.jbi.2020.103421   \n",
       "10            10.3233/shti210801   \n",
       "12     10.1136/bmjos-2021-100268   \n",
       "14          10.15265/iy-2017-024   \n",
       "15        10.3390/ijerph15081644   \n",
       "17        10.1515/cclm-2022-1096   \n",
       "18  10.1371/journal.pone.0269828   \n",
       "19        10.1055/s-0040-1712510   \n",
       "20            10.1002/lrh2.10070   \n",
       "21            10.3233/shti210817   \n",
       "22      10.23889/ijpds.v7i3.1792   \n",
       "25            10.3233/shti220476   \n",
       "28      10.1542/peds.2021-055815   \n",
       "30          10.1162/dint_a_00183   \n",
       "\n",
       "                                                                                                                                                                                                                                                                                                                                                                                                                                                                                                                                                                                                                                                                                                                                                                                                                                         Summary  \n",
       "1                                                                                                                                                                                                                                                                                                                                  The FAIR principles (Findable, Accessible, Interoperable, Reusable) are essential for the rapid growth of artificial intelligence (AI) applications in radiotherapy and the data-driven healthcare domain. This article provides guidance and potential applications of FAIR to various radiotherapy stakeholders, with a focus on the role of medical physicists. It also outlines the need and usage of FAIR data principles in radiotherapy, and presents practical and relevant use cases for the future.  \n",
       "4                                                                                                                                                                                                                                                                  The FAIR principles are an important framework for enabling progress in the development of artificial intelligence using existing datasets. The 6Vs of Big Data and the FAIR criteria for data sharing and availability (Findability, Accessibility, Interoperability, and Reuse) provide a structure for navigating the barriers preventing artificial intelligence from making full use of existing datasets. The Brain Tumour Data Accelerator is an example of an initiative that uses the FAIR principles to integrate fragmented patient data into an enriched dataset.  \n",
       "7                                                                                                                                                                                                                                                                                                                                           The FAIR principles (Findable, Accessible, Interoperable and Reusable) have been increasingly adopted in recent years to facilitate collaboration between academia and industry in the life sciences. This shift from an application-centric to a data-centric perspective has enabled greater value to be achieved from data generated from research, clinical trials, and real-world healthcare data, which is essential for the discovery and development of new medical treatments by biopharma.  \n",
       "8                                                                                                                                                                                                                             FAIR Health is a non-profit corporation that maintains a database of over 20 billion privately billed healthcare claims and provides healthcare cost data and analysis to government agencies, insurers, providers, and consumers. The organization conducted an analysis of privately billed healthcare claims which showed that private health insurance claims for opioid dependence in the United States rose more than 3200% from 2007 to 2014. This data is being used to help combat the opioid epidemic in the US by providing insight into the cost of treatment and the prevalence of opioid dependence.  \n",
       "9                                                                                                     The FAIR principles are a set of guidelines for data sharing in clinical research and healthcare. They emphasize the importance of data exchange standards, content standards, and accessible rich metadata that uses applicable terminologies to ensure data is Findable, Accessible, Interoperable, and Reusable. Common data elements (CDEs) have been used to standardize data collection, but have not been widely adopted due to a lack of harmonization and consistency in linking them to controlled terminology or common identifiers. This has hindered the ability to adhere to FAIR principles and realize Learning Health Systems. Recommendations are offered to rectify this situation and enable responsible data sharing.  \n",
       "10                                                                                                                                                                                                                                                                                                                                                                               The FAIR principles are used to improve the performance of medical image classification and diagnosis based on machine learning. The technique proposed in this paper enables the alignment of class distribution in imbalanced datasets, which can lead to improved image classification performance and ensure data reuse. Experiments on the acne disease dataset show that the proposed framework can achieve up to 5% improvement in image classification.  \n",
       "12                                                                                                                                                             This study investigates the management and sharing of next generation sequencing (NGS) data within the healthcare and research setting according to the FAIR principles (Findable, Accessible, Interoperable and Reusable). As part of the 'Rational Pharmacotherapy Program' led by ZonMw, a consortium was formed to develop an instruction manual for FAIR genomic data in clinical care and research. This paper addresses topics such as data generation, data quality, (meta)data standards, data storage and archiving and data integration and exchange. This gap analysis is a possible contribution from the Netherlands to the European 1+ Million Genomes Initiative.  \n",
       "14                                                                                                                                                                                                                                                                                                                                    The FAIR Guiding Principles for scientific data management and stewardship were highlighted in one of the four best papers selected from 452 papers published in 2016 in the field of Clinical Research Informatics. This paper, along with the other three selected papers, focused on the utilization of real-world data, such as healthcare-generated data, person health data, and patient-reported outcomes, and the potential risks of privacy breaches associated with releasing genomics datasets.  \n",
       "15                                                                                                                                                                                                                                                                               The FAIR principles are an important part of the development of rare disease (RD) patient registries. These principles include aspects of governance, data and information, infrastructure, documentation, training, and quality audit. They are intended to be used by established and new RD registries to ensure high-quality information systems that support the activities of European Reference Networks (ERNs) on rare diseases. A toolkit is being developed to enable continuous assessment and improvement of their organizational and data quality.  \n",
       "17                                                The FAIR Guiding Principles provide guidelines to make data findable, accessible, interoperable and reusable to the research community in order to facilitate the efficient and safe implementation of big data and artificial intelligence in healthcare. These principles are important for the development of legal, procedural and technical infrastructure, as well as for the integration of all clinical data sets for any given patient. They are also useful for improving the robustness of AI algorithms working on big data and increasing trust in these algorithms. Big data and AI offer opportunities for laboratories and the In Vitro Diagnostic industry to optimize the productivity of the laboratory, the quality of laboratory results and ultimately patient outcomes.  \n",
       "18                                                                                                                                                                                                                                                                                                                This analysis aimed to characterize the healthcare utilization, cost burden, and quality-of-life restrictions experienced by Chronic Pelvic Pain (CPP) patients. Data from 607 patients was used and the overall cost burden per patient for all services combined was $15,750 for in-network services. The FAIR Health Consumer online database was used to obtain in-network costs. This analysis sets the stage for future investigations involving data on costs of medications and costs associated with work hours lost.  \n",
       "19                                                                                                                                                                                            The FAIR principles are a set of guidelines proposed by the scientific community to improve how scholarly data is managed and accessed. This case study developed a system, EDCat, to improve the FAIRness of Healthcare Cost and Utilization Project's State Emergency Department Databases (HCUP's SEDD). EDCat improved the findability of individual datasets and increased the efficacy of searches for specific data elements and data types. The publication of data dictionaries should be encouraged through the FAIR principles, and further efforts should be made to improve the specificity and measurability of the FAIR principles.  \n",
       "20                                                                                                                                                                                                                                                                                           The FAIR principles are essential for healthcare delivery organizations to be able to effectively use computable knowledge management at scale. The FAIR principles (findable, accessible, interoperable, reusable) are necessary for data science discoveries to be represented in computable form and spread knowledge at scale. Healthcare delivery organizations need to develop new organizational capabilities across three domains: policies and processes, technology, and people in order to benefit from computable biomedical knowledge.  \n",
       "21                                                                         The purpose of this study was to evaluate the mapping feasibility of a generic metadata schema (MDS) created for a central search hub gathering COVID-19 health research to the HL7® Fast Healthcare Interoperability Resources® (FHIR)®. Results showed that 94% of the items could be mapped to FHIR, with 50 (58%) of the items available as standard resources and 31 (36%) mapped using extensions. This work demonstrates that FHIR can be used as a standardized format in registries for clinical, epidemiological and public health research, however further adjustments to the initial MDS are recommended. The adoption of international standards within health research communities can help to elevate data FAIRness and widen analysis possibilities.  \n",
       "22                                                                                    The FAIR principles are being used in the CO-CONNECT project to make UK COVID-19 data Findable, Accessible, Interoperable and Reusable. This project is connecting data from over 50 large research cohorts and data collected through routine healthcare provision across the UK. The FAIR principles are being used to streamline processes of accessing data for research, enabling researchers to determine how many people meet their research criteria within the various datasets across the UK. Additionally, with data governance approvals, researchers can analyse detailed level, standardised, linked, pseudonymised data in a Trusted Research Environment. This de-identifiable, safe way of providing data enables rapid, robust research.  \n",
       "25                                                                                                              The FAIR principles of Findable, Accessible, Interoperable and Reusable are essential for health data to be used in integrative analysis with other datasets, especially during the current pandemic. The Dutch National Intensive Care Evaluation (NICE) quality registry adopted the Observational Medical Outcomes Partnership Common Database Model (OMOP CDM) to achieve a FAIR database. This process involved solving many modeling, technical, and communication challenges, which were done through communication with the OMOP CDM implementation community, previously done research and trial-and-error. This can help other healthcare institutions, especially ICU quality registries, to FAIRify their databases.  \n",
       "28                                                                                                                                                                                                                                                                                                                 The FAIR principles are an important part of maximizing the impact of pediatric clinical trials. These principles involve making data Findable, Accessible, Interoperable, and Reusable. This includes making data sharing and reuse mandatory, using standard pediatric terminologies and pediatric-specific data ontologies, and monitoring activities to direct modification and strengthening of research infrastructures. These principles are essential for advancing pediatric clinical care and maximizing resources.  \n",
       "30  The FAIR Guidelines are designed to make digital data Findable, Accessible, Interoperable, and Reusable. To meet this goal, a new data science discipline known as data stewardship is emerging. The Digital Innovations and Skills Hub (DISH) project has developed a FAIR Data Management course to foster professional skills in data stewardship. The course consists of 6 short on-demand certificate modules over 12 weeks, covering topics such as data science, regulatory frameworks, FAIR data management, and FAIR data in the management of healthcare and semantic data. Upon completion, students are certified as FAIR data scientists and qualified to serve as both FAIR data stewards and analysts. This initiative is intended to build a core of FAIR data scientists and encourage the adoption of the FAIR Guidelines.  "
      ]
     },
     "execution_count": 86,
     "metadata": {},
     "output_type": "execute_result"
    }
   ],
   "source": [
    "df4[['DOI', 'Summary']]"
   ]
  },
  {
   "cell_type": "code",
   "execution_count": null,
   "id": "4b891d8b-978e-49cf-ab1a-3a2c5e59da74",
   "metadata": {},
   "outputs": [],
   "source": []
  }
 ],
 "metadata": {
  "kernelspec": {
   "display_name": "Python 3 (ipykernel)",
   "language": "python",
   "name": "python3"
  },
  "language_info": {
   "codemirror_mode": {
    "name": "ipython",
    "version": 3
   },
   "file_extension": ".py",
   "mimetype": "text/x-python",
   "name": "python",
   "nbconvert_exporter": "python",
   "pygments_lexer": "ipython3",
   "version": "3.9.16"
  }
 },
 "nbformat": 4,
 "nbformat_minor": 5
}
