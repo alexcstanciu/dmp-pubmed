{
 "cells": [
  {
   "cell_type": "code",
   "execution_count": null,
   "id": "dd6b65b1-4c14-4202-9537-8d807794e2ab",
   "metadata": {},
   "outputs": [],
   "source": [
    "!pip install pymed"
   ]
  },
  {
   "cell_type": "code",
   "execution_count": null,
   "id": "b5dbf8b2-d6de-4ec6-a483-465b9a54f21f",
   "metadata": {},
   "outputs": [],
   "source": [
    "from pymed import PubMed\n",
    "\n",
    "# Create a PubMed object that GraphQL can use to query\n",
    "# Note that the parameters are not required but kindly requested by PubMed Central\n",
    "# https://www.ncbi.nlm.nih.gov/pmc/tools/developers/\n",
    "pubmed = PubMed(tool=\"MyTool\", email=\"my@email.address\")\n",
    "\n",
    "# Create a GraphQL query in plain text\n",
    "query = '((FAIR[Title/Abstract]) AND (data[Title/Abstract])) AND (management[Title/Abstract])'\n",
    "\n",
    "# Execute the query against the API\n",
    "results = pubmed.query(query, max_results=1000)\n",
    "\n",
    "# Loop over the retrieved articles\n",
    "for article in results:\n",
    "\n",
    "    # Extract and format information from the article\n",
    "    article_id = article.pubmed_id\n",
    "    title = article.title\n",
    "    abstract = article.abstract\n",
    "\n",
    "    # Show information about the article\n",
    "    print(\n",
    "        f'{article_id} - {title}\\n{abstract}\\n'\n",
    "    )"
   ]
  },
  {
   "cell_type": "code",
   "execution_count": null,
   "id": "41a70d66-df13-47cf-a225-cdee92183ebe",
   "metadata": {},
   "outputs": [],
   "source": []
  }
 ],
 "metadata": {
  "kernelspec": {
   "display_name": "Python 3 (ipykernel)",
   "language": "python",
   "name": "python3"
  },
  "language_info": {
   "codemirror_mode": {
    "name": "ipython",
    "version": 3
   },
   "file_extension": ".py",
   "mimetype": "text/x-python",
   "name": "python",
   "nbconvert_exporter": "python",
   "pygments_lexer": "ipython3",
   "version": "3.9.16"
  }
 },
 "nbformat": 4,
 "nbformat_minor": 5
}
